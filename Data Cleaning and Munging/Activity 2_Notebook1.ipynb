{
 "cells": [
  {
   "cell_type": "markdown",
   "metadata": {},
   "source": [
    "# Activity 2 Notebook1\n",
    "### In this notebook, we join the various tables from European Soccer Database that we get from Kaggle.com and create 2 CSV files which we will use to answer queries in Activity 2 Notebook2"
   ]
  },
  {
   "cell_type": "code",
   "execution_count": 44,
   "metadata": {
    "collapsed": false,
    "scrolled": true
   },
   "outputs": [],
   "source": [
    "library(dplyr)\n",
    "library(sqldf)"
   ]
  },
  {
   "cell_type": "markdown",
   "metadata": {},
   "source": [
    "### Note: The latest updated values are used to grade players and teams."
   ]
  },
  {
   "cell_type": "code",
   "execution_count": 45,
   "metadata": {
    "collapsed": true
   },
   "outputs": [],
   "source": [
    "db <- dbConnect(SQLite(), dbname=\"database.sqlite\")\n",
    "my_db <- src_sqlite(\"my_db1.sqlite3\", create = T)\n",
    "data1 <- dbReadTable(conn = db, \"Player\")\n",
    "data2 <- dbReadTable(conn = db, \"Team\")\n",
    "data3 <- dbReadTable(conn = db, \"Player_Attributes\")\n",
    "data4 <- dbReadTable(conn = db, \"Match\")\n",
    "data5 <- dbReadTable(conn = db, \"Country\")\n",
    "data6 <- dbReadTable(conn = db, \"League\")\n",
    "data7 <- dbReadTable(conn = db, \"Team_Attributes\")"
   ]
  },
  {
   "cell_type": "code",
   "execution_count": 46,
   "metadata": {
    "collapsed": false
   },
   "outputs": [],
   "source": [
    "player1 <- copy_to(my_db, data1)\n",
    "team1 <- copy_to(my_db, data2)\n",
    "platr <- copy_to(my_db, data3)\n",
    "match <- copy_to(my_db, data4)\n",
    "country <- copy_to(my_db, data5)\n",
    "leag <- copy_to(my_db, data6)\n",
    "team2 <- copy_to(my_db, data7)"
   ]
  },
  {
   "cell_type": "code",
   "execution_count": 47,
   "metadata": {
    "collapsed": true
   },
   "outputs": [],
   "source": [
    "player1 <- tbl(my_db, sql(\"SELECT * FROM data1\"))\n",
    "platr <- tbl(my_db, sql(\"SELECT * FROM data3 WHERE id IN (SELECT id from data3 GROUP BY player_api_id HAVING date = max(date))\"))\n",
    "match <- tbl(my_db, sql(\"SELECT * FROM data4\"))\n",
    "ini <- tbl(my_db, sql(\"SELECT * FROM data7 WHERE id IN (SELECT id from data7 GROUP BY team_api_id HAVING date = max(date))\"))\n",
    "team1 <- tbl(my_db,sql(\"SELECT * FROM data2\"))"
   ]
  },
  {
   "cell_type": "code",
   "execution_count": 48,
   "metadata": {
    "collapsed": false
   },
   "outputs": [],
   "source": [
    "c1 <- select(player1,player_name,player_api_id)\n",
    "c2 <- select(platr,player_api_id,date,overall_rating,gk_diving,gk_handling,gk_kicking,gk_positioning,gk_reflexes)"
   ]
  },
  {
   "cell_type": "code",
   "execution_count": 49,
   "metadata": {
    "collapsed": true
   },
   "outputs": [],
   "source": [
    "r1 <- collect(select(match,player_api_id = home_player_1,league_id))\n",
    "r2 <- collect(select(match,player_api_id = home_player_2,league_id))\n",
    "r3 <- collect(select(match,player_api_id = home_player_3,league_id))\n",
    "r4 <- collect(select(match,player_api_id = home_player_4,league_id))\n",
    "r5 <- collect(select(match,player_api_id = home_player_5,league_id))\n",
    "r6 <- collect(select(match,player_api_id = home_player_6,league_id))\n",
    "r7 <- collect(select(match,player_api_id = home_player_7,league_id))\n",
    "r8 <- collect(select(match,player_api_id = home_player_8,league_id))\n",
    "r9 <- collect(select(match,player_api_id = home_player_9,league_id))\n",
    "r10 <- collect(select(match,player_api_id = home_player_10,league_id))\n",
    "r11 <- collect(select(match,player_api_id = home_player_11,league_id))\n",
    "\n",
    "r12 <- collect(select(match,player_api_id = away_player_1,league_id))\n",
    "r13 <- collect(select(match,player_api_id = away_player_2,league_id))\n",
    "r14 <- collect(select(match,player_api_id = away_player_3,league_id))\n",
    "r15 <- collect(select(match,player_api_id = away_player_4,league_id))\n",
    "r16 <- collect(select(match,player_api_id = away_player_5,league_id))\n",
    "r17 <- collect(select(match,player_api_id = away_player_6,league_id))\n",
    "r18 <- collect(select(match,player_api_id = away_player_7,league_id))\n",
    "r19 <- collect(select(match,player_api_id = away_player_8,league_id))\n",
    "r20 <- collect(select(match,player_api_id = away_player_9,league_id))\n",
    "r21 <- collect(select(match,player_api_id = away_player_10,league_id))\n",
    "r22 <- collect(select(match,player_api_id = away_player_11,league_id))\n",
    "\n",
    "\n",
    "rn = c()\n",
    "rn = rbind(rn,r1,r2,r3,r4,r5,r6,r7,r8,r9,r10,r11,r12,r13,r14,r15,r16,r17,r18,r19,r20,r21,r22)"
   ]
  },
  {
   "cell_type": "code",
   "execution_count": 50,
   "metadata": {
    "collapsed": true
   },
   "outputs": [],
   "source": [
    "rn1 <- aggregate(league_id ~ player_api_id, rn, function(x) length(unique(x)))"
   ]
  },
  {
   "cell_type": "code",
   "execution_count": 51,
   "metadata": {
    "collapsed": true
   },
   "outputs": [],
   "source": [
    "c3 <- inner_join(c1,c2,by = \"player_api_id\")\n",
    "c4 = c()\n",
    "c4 <- mutate(c2, gk_rating = gk_diving+gk_handling+gk_kicking+gk_positioning+gk_reflexes)\n",
    "c5 <- select(c4, player_api_id,date,overall_rating,gk_rating)\n",
    "c6 <- inner_join(c1,c5,by = \"player_api_id\")"
   ]
  },
  {
   "cell_type": "code",
   "execution_count": 52,
   "metadata": {
    "collapsed": true
   },
   "outputs": [],
   "source": [
    "d1 <- collect(tally(group_by(match, home_player_1),sort = TRUE))\n",
    "d2 <- collect(tally(group_by(match, home_player_2),sort = TRUE))\n",
    "d3 <- collect(tally(group_by(match, home_player_3),sort = TRUE))\n",
    "d4 <- collect(tally(group_by(match, home_player_4),sort = TRUE))\n",
    "d5 <- collect(tally(group_by(match, home_player_5),sort = TRUE))\n",
    "d6 <- collect(tally(group_by(match, home_player_6),sort = TRUE))\n",
    "d7 <- collect(tally(group_by(match, home_player_7),sort = TRUE))\n",
    "d8 <- collect(tally(group_by(match, home_player_8),sort = TRUE))\n",
    "d9 <- collect(tally(group_by(match, home_player_9),sort = TRUE))\n",
    "d10 <- collect(tally(group_by(match, home_player_10),sort = TRUE))\n",
    "d11 <- collect(tally(group_by(match, home_player_11),sort = TRUE))\n",
    "\n",
    "d12 <- collect(tally(group_by(match, away_player_1),sort = TRUE))\n",
    "d13 <- collect(tally(group_by(match, away_player_2),sort = TRUE))\n",
    "d14 <- collect(tally(group_by(match, away_player_3),sort = TRUE))\n",
    "d15 <- collect(tally(group_by(match, away_player_4),sort = TRUE))\n",
    "d16 <- collect(tally(group_by(match, away_player_5),sort = TRUE))\n",
    "d17 <- collect(tally(group_by(match, away_player_6),sort = TRUE))\n",
    "d18 <- collect(tally(group_by(match, away_player_7),sort = TRUE))\n",
    "d19 <- collect(tally(group_by(match, away_player_8),sort = TRUE))\n",
    "d20 <- collect(tally(group_by(match, away_player_9),sort = TRUE))\n",
    "d21 <- collect(tally(group_by(match, away_player_10),sort = TRUE))\n",
    "d22 <- collect(tally(group_by(match, away_player_11),sort = TRUE))\n",
    "\n",
    "\n",
    "d1 <- select(d1, player_api_id = home_player_1,n)\n",
    "d2 <- select(d2, player_api_id = home_player_2,n)\n",
    "d3 <- select(d3, player_api_id = home_player_3,n)\n",
    "d4 <- select(d4, player_api_id = home_player_4,n)\n",
    "d5 <- select(d5, player_api_id = home_player_5,n)\n",
    "d6 <- select(d6, player_api_id = home_player_6,n)\n",
    "d7 <- select(d7, player_api_id = home_player_7,n)\n",
    "d8 <- select(d8, player_api_id = home_player_8,n)\n",
    "d9 <- select(d9, player_api_id = home_player_9,n)\n",
    "d10 <- select(d10, player_api_id = home_player_10,n)\n",
    "d11 <- select(d11, player_api_id = home_player_11,n)\n",
    "\n",
    "\n",
    "d12 <- select(d12, player_api_id = away_player_1,n)\n",
    "d13 <- select(d13, player_api_id = away_player_2,n)\n",
    "d14 <- select(d14, player_api_id = away_player_3,n)\n",
    "d15 <- select(d15, player_api_id = away_player_4,n)\n",
    "d16 <- select(d16, player_api_id = away_player_5,n)\n",
    "d17 <- select(d17, player_api_id = away_player_6,n)\n",
    "d18 <- select(d18, player_api_id = away_player_7,n)\n",
    "d19 <- select(d19, player_api_id = away_player_8,n)\n",
    "d20 <- select(d20, player_api_id = away_player_9,n)\n",
    "d21 <- select(d21, player_api_id = away_player_10,n)\n",
    "d22 <- select(d22, player_api_id = away_player_11,n)"
   ]
  },
  {
   "cell_type": "code",
   "execution_count": 53,
   "metadata": {
    "collapsed": false
   },
   "outputs": [],
   "source": [
    "dn = c()\n",
    "dn = rbind(dn,d1,d2,d3,d4,d5,d6,d7,d8,d9,d10,d11,d12,d13,d14,d15,d16,d17,d18,d19,d20,d21)\n",
    "dn1 <- dn %>% group_by(player_api_id) %>% mutate(n = sum(n))\n",
    "dn2 <- unique(dn1)\n",
    "j1 <- inner_join(c6,dn2,by = \"player_api_id\",copy = TRUE)\n",
    "j3 <- inner_join(j1,rn1,by = \"player_api_id\",copy = TRUE)\n",
    "j3 <- j3 %>% select(player_name,player_api_id,overall_rating,gk_rating,numofappearences = n,numofleagues=league_id)"
   ]
  },
  {
   "cell_type": "code",
   "execution_count": 54,
   "metadata": {
    "collapsed": false
   },
   "outputs": [],
   "source": [
    "k1 <- ini %>% mutate(buildupattributes = buildUpPlaySpeed + buildUpPlayDribbling + buildUpPlayPassing,chancecreationattributes = chanceCreationPassing + chanceCreationCrossing + chanceCreationShooting,defenseattributes = defencePressure + defenceAggression + defenceTeamWidth)\n",
    "k1 <- k1 %>% select(team_api_id,buildupattributes,chancecreationattributes,defenseattributes)"
   ]
  },
  {
   "cell_type": "code",
   "execution_count": 55,
   "metadata": {
    "collapsed": true
   },
   "outputs": [],
   "source": [
    "kk <- team1 %>% select(team_api_id,team_long_name,team_short_name)"
   ]
  },
  {
   "cell_type": "code",
   "execution_count": 56,
   "metadata": {
    "collapsed": false
   },
   "outputs": [],
   "source": [
    "kj <- inner_join(kk,k1,by = 'team_api_id',copy = TRUE)"
   ]
  },
  {
   "cell_type": "code",
   "execution_count": 57,
   "metadata": {
    "collapsed": false
   },
   "outputs": [],
   "source": [
    "k2 <- collect(match %>% select(team_api_id = home_team_api_id, goals = home_team_goal))\n",
    "k3 <- collect(match %>% select(team_api_id = away_team_api_id, goals = away_team_goal))\n",
    "kn = c()\n",
    "kn = rbind(kn,k2,k3)\n",
    "kn <- kn %>% group_by(team_api_id) %>% mutate(goals = sum(goals))\n",
    "kn <- unique(kn)"
   ]
  },
  {
   "cell_type": "code",
   "execution_count": 58,
   "metadata": {
    "collapsed": false
   },
   "outputs": [],
   "source": [
    "kf <- inner_join(kj,kn,by = \"team_api_id\",copy = TRUE)"
   ]
  },
  {
   "cell_type": "code",
   "execution_count": 59,
   "metadata": {
    "collapsed": false
   },
   "outputs": [],
   "source": [
    "write.csv(file=\"player.csv\", x=j3)\n",
    "write.csv(file=\"team.csv\", x=kf)"
   ]
  }
 ],
 "metadata": {
  "kernelspec": {
   "display_name": "R",
   "language": "R",
   "name": "ir"
  },
  "language_info": {
   "codemirror_mode": "r",
   "file_extension": ".r",
   "mimetype": "text/x-r-source",
   "name": "R",
   "pygments_lexer": "r",
   "version": "3.3.2"
  }
 },
 "nbformat": 4,
 "nbformat_minor": 2
}
