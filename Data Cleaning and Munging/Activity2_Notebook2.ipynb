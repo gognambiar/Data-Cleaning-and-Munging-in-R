{
 "cells": [
  {
   "cell_type": "markdown",
   "metadata": {},
   "source": [
    "# Activity2 Notebook2\n",
    "### This notebook answers 8 queries from player.csv and team.csv files created by Activity2 Notebook1\n",
    "\n",
    "## Note : All the data pulled are for the latest updated attributes of players/teams"
   ]
  },
  {
   "cell_type": "code",
   "execution_count": 11,
   "metadata": {
    "collapsed": false
   },
   "outputs": [],
   "source": [
    "library(dplyr)\n",
    "library(sqldf)"
   ]
  },
  {
   "cell_type": "code",
   "execution_count": 12,
   "metadata": {
    "collapsed": true
   },
   "outputs": [],
   "source": [
    "playerdata = read.csv(\"player.csv\")\n",
    "teamdata = read.csv(\"team.csv\")"
   ]
  },
  {
   "cell_type": "code",
   "execution_count": 13,
   "metadata": {
    "collapsed": false
   },
   "outputs": [
    {
     "data": {
      "text/html": [
       "<table>\n",
       "<thead><tr><th scope=col>player_name</th><th scope=col>overall_rating</th></tr></thead>\n",
       "<tbody>\n",
       "\t<tr><td>Lionel Messi      </td><td>94                </td></tr>\n",
       "\t<tr><td>Cristiano Ronaldo </td><td>93                </td></tr>\n",
       "\t<tr><td>Luis Suarez       </td><td>90                </td></tr>\n",
       "\t<tr><td>Manuel Neuer      </td><td>90                </td></tr>\n",
       "\t<tr><td>Neymar            </td><td>90                </td></tr>\n",
       "\t<tr><td>Arjen Robben      </td><td>89                </td></tr>\n",
       "\t<tr><td>Zlatan Ibrahimovic</td><td>89                </td></tr>\n",
       "\t<tr><td>Andres Iniesta    </td><td>88                </td></tr>\n",
       "\t<tr><td>Eden Hazard       </td><td>88                </td></tr>\n",
       "\t<tr><td>Mesut Oezil       </td><td>88                </td></tr>\n",
       "</tbody>\n",
       "</table>\n"
      ],
      "text/latex": [
       "\\begin{tabular}{r|ll}\n",
       " player\\_name & overall\\_rating\\\\\n",
       "\\hline\n",
       "\t Lionel Messi       & 94                \\\\\n",
       "\t Cristiano Ronaldo  & 93                \\\\\n",
       "\t Luis Suarez        & 90                \\\\\n",
       "\t Manuel Neuer       & 90                \\\\\n",
       "\t Neymar             & 90                \\\\\n",
       "\t Arjen Robben       & 89                \\\\\n",
       "\t Zlatan Ibrahimovic & 89                \\\\\n",
       "\t Andres Iniesta     & 88                \\\\\n",
       "\t Eden Hazard        & 88                \\\\\n",
       "\t Mesut Oezil        & 88                \\\\\n",
       "\\end{tabular}\n"
      ],
      "text/markdown": [
       "\n",
       "player_name | overall_rating | \n",
       "|---|---|---|---|---|---|---|---|---|---|\n",
       "| Lionel Messi       | 94                 | \n",
       "| Cristiano Ronaldo  | 93                 | \n",
       "| Luis Suarez        | 90                 | \n",
       "| Manuel Neuer       | 90                 | \n",
       "| Neymar             | 90                 | \n",
       "| Arjen Robben       | 89                 | \n",
       "| Zlatan Ibrahimovic | 89                 | \n",
       "| Andres Iniesta     | 88                 | \n",
       "| Eden Hazard        | 88                 | \n",
       "| Mesut Oezil        | 88                 | \n",
       "\n",
       "\n"
      ],
      "text/plain": [
       "   player_name        overall_rating\n",
       "1  Lionel Messi       94            \n",
       "2  Cristiano Ronaldo  93            \n",
       "3  Luis Suarez        90            \n",
       "4  Manuel Neuer       90            \n",
       "5  Neymar             90            \n",
       "6  Arjen Robben       89            \n",
       "7  Zlatan Ibrahimovic 89            \n",
       "8  Andres Iniesta     88            \n",
       "9  Eden Hazard        88            \n",
       "10 Mesut Oezil        88            "
      ]
     },
     "metadata": {},
     "output_type": "display_data"
    }
   ],
   "source": [
    "#question1\n",
    "#Which are the top 10 players by overall rating?\n",
    "q1 <- playerdata %>% top_n(n=10,wt=overall_rating)\n",
    "q1 <- arrange(q1,desc(overall_rating))\n",
    "q1 <- select(q1,player_name,overall_rating)\n",
    "q1 <- filter(q1,between(row_number(),1,10))\n",
    "q1"
   ]
  },
  {
   "cell_type": "code",
   "execution_count": 14,
   "metadata": {
    "collapsed": false
   },
   "outputs": [
    {
     "data": {
      "text/html": [
       "<table>\n",
       "<thead><tr><th scope=col>player_name</th><th scope=col>gk_rating</th></tr></thead>\n",
       "<tbody>\n",
       "\t<tr><td>Manuel Neuer     </td><td>440              </td></tr>\n",
       "\t<tr><td>David De Gea     </td><td>429              </td></tr>\n",
       "\t<tr><td>Edwin van der Sar</td><td>422              </td></tr>\n",
       "\t<tr><td>Robert Enke,30   </td><td>421              </td></tr>\n",
       "\t<tr><td>Claudio Bravo    </td><td>416              </td></tr>\n",
       "\t<tr><td>Bernd Leno       </td><td>415              </td></tr>\n",
       "\t<tr><td>Petr Cech        </td><td>414              </td></tr>\n",
       "\t<tr><td>Thibaut Courtois </td><td>414              </td></tr>\n",
       "\t<tr><td>Joe Hart         </td><td>412              </td></tr>\n",
       "\t<tr><td>Samir Handanovic </td><td>411              </td></tr>\n",
       "</tbody>\n",
       "</table>\n"
      ],
      "text/latex": [
       "\\begin{tabular}{r|ll}\n",
       " player\\_name & gk\\_rating\\\\\n",
       "\\hline\n",
       "\t Manuel Neuer      & 440              \\\\\n",
       "\t David De Gea      & 429              \\\\\n",
       "\t Edwin van der Sar & 422              \\\\\n",
       "\t Robert Enke,30    & 421              \\\\\n",
       "\t Claudio Bravo     & 416              \\\\\n",
       "\t Bernd Leno        & 415              \\\\\n",
       "\t Petr Cech         & 414              \\\\\n",
       "\t Thibaut Courtois  & 414              \\\\\n",
       "\t Joe Hart          & 412              \\\\\n",
       "\t Samir Handanovic  & 411              \\\\\n",
       "\\end{tabular}\n"
      ],
      "text/markdown": [
       "\n",
       "player_name | gk_rating | \n",
       "|---|---|---|---|---|---|---|---|---|---|\n",
       "| Manuel Neuer      | 440               | \n",
       "| David De Gea      | 429               | \n",
       "| Edwin van der Sar | 422               | \n",
       "| Robert Enke,30    | 421               | \n",
       "| Claudio Bravo     | 416               | \n",
       "| Bernd Leno        | 415               | \n",
       "| Petr Cech         | 414               | \n",
       "| Thibaut Courtois  | 414               | \n",
       "| Joe Hart          | 412               | \n",
       "| Samir Handanovic  | 411               | \n",
       "\n",
       "\n"
      ],
      "text/plain": [
       "   player_name       gk_rating\n",
       "1  Manuel Neuer      440      \n",
       "2  David De Gea      429      \n",
       "3  Edwin van der Sar 422      \n",
       "4  Robert Enke,30    421      \n",
       "5  Claudio Bravo     416      \n",
       "6  Bernd Leno        415      \n",
       "7  Petr Cech         414      \n",
       "8  Thibaut Courtois  414      \n",
       "9  Joe Hart          412      \n",
       "10 Samir Handanovic  411      "
      ]
     },
     "metadata": {},
     "output_type": "display_data"
    }
   ],
   "source": [
    "#question2\n",
    "#Which are the top 10 goalkeepers by sum of gk attributes?\n",
    "q2 <- playerdata %>% top_n(n=10,wt=gk_rating)\n",
    "q2 <- arrange(q2,desc(gk_rating))\n",
    "q2 <- select(q2,player_name,gk_rating)\n",
    "q2 <- filter(q2,between(row_number(),1,10))\n",
    "q2"
   ]
  },
  {
   "cell_type": "code",
   "execution_count": 15,
   "metadata": {
    "collapsed": false
   },
   "outputs": [
    {
     "data": {
      "text/html": [
       "<table>\n",
       "<thead><tr><th scope=col>player_name</th><th scope=col>numofappearences</th></tr></thead>\n",
       "<tbody>\n",
       "\t<tr><td>Steve Mandanda      </td><td>300                 </td></tr>\n",
       "\t<tr><td>Stephane Ruffier    </td><td>294                 </td></tr>\n",
       "\t<tr><td>Gorka Iraizoz Moreno</td><td>286                 </td></tr>\n",
       "\t<tr><td>Samir Handanovic    </td><td>286                 </td></tr>\n",
       "\t<tr><td>Hugo Lloris         </td><td>282                 </td></tr>\n",
       "\t<tr><td>Tim Howard          </td><td>282                 </td></tr>\n",
       "\t<tr><td>Joe Hart            </td><td>275                 </td></tr>\n",
       "\t<tr><td>Cedric Carrasso     </td><td>268                 </td></tr>\n",
       "\t<tr><td>Daniel Congre       </td><td>262                 </td></tr>\n",
       "\t<tr><td>Moussa Sissoko      </td><td>259                 </td></tr>\n",
       "</tbody>\n",
       "</table>\n"
      ],
      "text/latex": [
       "\\begin{tabular}{r|ll}\n",
       " player\\_name & numofappearences\\\\\n",
       "\\hline\n",
       "\t Steve Mandanda       & 300                 \\\\\n",
       "\t Stephane Ruffier     & 294                 \\\\\n",
       "\t Gorka Iraizoz Moreno & 286                 \\\\\n",
       "\t Samir Handanovic     & 286                 \\\\\n",
       "\t Hugo Lloris          & 282                 \\\\\n",
       "\t Tim Howard           & 282                 \\\\\n",
       "\t Joe Hart             & 275                 \\\\\n",
       "\t Cedric Carrasso      & 268                 \\\\\n",
       "\t Daniel Congre        & 262                 \\\\\n",
       "\t Moussa Sissoko       & 259                 \\\\\n",
       "\\end{tabular}\n"
      ],
      "text/markdown": [
       "\n",
       "player_name | numofappearences | \n",
       "|---|---|---|---|---|---|---|---|---|---|\n",
       "| Steve Mandanda       | 300                  | \n",
       "| Stephane Ruffier     | 294                  | \n",
       "| Gorka Iraizoz Moreno | 286                  | \n",
       "| Samir Handanovic     | 286                  | \n",
       "| Hugo Lloris          | 282                  | \n",
       "| Tim Howard           | 282                  | \n",
       "| Joe Hart             | 275                  | \n",
       "| Cedric Carrasso      | 268                  | \n",
       "| Daniel Congre        | 262                  | \n",
       "| Moussa Sissoko       | 259                  | \n",
       "\n",
       "\n"
      ],
      "text/plain": [
       "   player_name          numofappearences\n",
       "1  Steve Mandanda       300             \n",
       "2  Stephane Ruffier     294             \n",
       "3  Gorka Iraizoz Moreno 286             \n",
       "4  Samir Handanovic     286             \n",
       "5  Hugo Lloris          282             \n",
       "6  Tim Howard           282             \n",
       "7  Joe Hart             275             \n",
       "8  Cedric Carrasso      268             \n",
       "9  Daniel Congre        262             \n",
       "10 Moussa Sissoko       259             "
      ]
     },
     "metadata": {},
     "output_type": "display_data"
    }
   ],
   "source": [
    "#question3\n",
    "#Which are the top 10 players by number of appearances (with any team they played with)?\n",
    "q3 <- playerdata %>% top_n(n=10,wt=numofappearences)\n",
    "q3 <- arrange(q3,desc(numofappearences))\n",
    "q3 <- select(q3,player_name,numofappearences)\n",
    "q3 <- filter(q3,between(row_number(),1,10))\n",
    "q3"
   ]
  },
  {
   "cell_type": "code",
   "execution_count": 16,
   "metadata": {
    "collapsed": false
   },
   "outputs": [
    {
     "data": {
      "text/html": [
       "<table>\n",
       "<thead><tr><th scope=col>player_name</th><th scope=col>numofleagues</th></tr></thead>\n",
       "<tbody>\n",
       "\t<tr><td>Gelson Fernandes     </td><td>6                    </td></tr>\n",
       "\t<tr><td>Filip Djuricic       </td><td>5                    </td></tr>\n",
       "\t<tr><td>Ricky van Wolfswinkel</td><td>5                    </td></tr>\n",
       "\t<tr><td>Aleksandar Tonev     </td><td>4                    </td></tr>\n",
       "\t<tr><td>Alfred Finnbogason   </td><td>4                    </td></tr>\n",
       "\t<tr><td>Almen Abdi           </td><td>4                    </td></tr>\n",
       "\t<tr><td>Aly Cissokho         </td><td>4                    </td></tr>\n",
       "\t<tr><td>Angel Di Maria       </td><td>4                    </td></tr>\n",
       "\t<tr><td>Bojan Krkic          </td><td>4                    </td></tr>\n",
       "\t<tr><td>Bryan Ruiz           </td><td>4                    </td></tr>\n",
       "</tbody>\n",
       "</table>\n"
      ],
      "text/latex": [
       "\\begin{tabular}{r|ll}\n",
       " player\\_name & numofleagues\\\\\n",
       "\\hline\n",
       "\t Gelson Fernandes      & 6                    \\\\\n",
       "\t Filip Djuricic        & 5                    \\\\\n",
       "\t Ricky van Wolfswinkel & 5                    \\\\\n",
       "\t Aleksandar Tonev      & 4                    \\\\\n",
       "\t Alfred Finnbogason    & 4                    \\\\\n",
       "\t Almen Abdi            & 4                    \\\\\n",
       "\t Aly Cissokho          & 4                    \\\\\n",
       "\t Angel Di Maria        & 4                    \\\\\n",
       "\t Bojan Krkic           & 4                    \\\\\n",
       "\t Bryan Ruiz            & 4                    \\\\\n",
       "\\end{tabular}\n"
      ],
      "text/markdown": [
       "\n",
       "player_name | numofleagues | \n",
       "|---|---|---|---|---|---|---|---|---|---|\n",
       "| Gelson Fernandes      | 6                     | \n",
       "| Filip Djuricic        | 5                     | \n",
       "| Ricky van Wolfswinkel | 5                     | \n",
       "| Aleksandar Tonev      | 4                     | \n",
       "| Alfred Finnbogason    | 4                     | \n",
       "| Almen Abdi            | 4                     | \n",
       "| Aly Cissokho          | 4                     | \n",
       "| Angel Di Maria        | 4                     | \n",
       "| Bojan Krkic           | 4                     | \n",
       "| Bryan Ruiz            | 4                     | \n",
       "\n",
       "\n"
      ],
      "text/plain": [
       "   player_name           numofleagues\n",
       "1  Gelson Fernandes      6           \n",
       "2  Filip Djuricic        5           \n",
       "3  Ricky van Wolfswinkel 5           \n",
       "4  Aleksandar Tonev      4           \n",
       "5  Alfred Finnbogason    4           \n",
       "6  Almen Abdi            4           \n",
       "7  Aly Cissokho          4           \n",
       "8  Angel Di Maria        4           \n",
       "9  Bojan Krkic           4           \n",
       "10 Bryan Ruiz            4           "
      ]
     },
     "metadata": {},
     "output_type": "display_data"
    }
   ],
   "source": [
    "#question4\n",
    "#Which are the top 10 players by number of leagues they played in?\n",
    "q4 <- playerdata %>% top_n(n=10,wt=numofleagues)\n",
    "q4 <- arrange(q4,desc(numofleagues))\n",
    "q4 <- select(q4,player_name,numofleagues)\n",
    "q4 <- filter(q4,between(row_number(),1,10))\n",
    "q4"
   ]
  },
  {
   "cell_type": "code",
   "execution_count": 17,
   "metadata": {
    "collapsed": false
   },
   "outputs": [
    {
     "data": {
      "text/html": [
       "<table>\n",
       "<thead><tr><th scope=col>team_long_name</th><th scope=col>team_short_name</th><th scope=col>team_api_id</th><th scope=col>buildupattributes</th></tr></thead>\n",
       "<tbody>\n",
       "\t<tr><td>Carpi                     </td><td>CAP                       </td><td>208931                    </td><td>190                       </td></tr>\n",
       "\t<tr><td>Widzew Łódź               </td><td>LOD                       </td><td>  8244                    </td><td>190                       </td></tr>\n",
       "\t<tr><td>Widzew Łódź               </td><td>WID                       </td><td>  8024                    </td><td>190                       </td></tr>\n",
       "\t<tr><td>FC Nantes                 </td><td>NAN                       </td><td>  9830                    </td><td>189                       </td></tr>\n",
       "\t<tr><td>Podbeskidzie Bielsko-Biała</td><td>POD                       </td><td>  8033                    </td><td>189                       </td></tr>\n",
       "\t<tr><td>Lazio                     </td><td>LAZ                       </td><td>  8543                    </td><td>188                       </td></tr>\n",
       "\t<tr><td>Chievo Verona             </td><td>CHI                       </td><td>  8533                    </td><td>187                       </td></tr>\n",
       "\t<tr><td>Blackburn Rovers          </td><td>BLB                       </td><td>  8655                    </td><td>185                       </td></tr>\n",
       "\t<tr><td>Udinese                   </td><td>UDI                       </td><td>  8600                    </td><td>185                       </td></tr>\n",
       "\t<tr><td>Genoa                     </td><td>GEN                       </td><td> 10233                    </td><td>184                       </td></tr>\n",
       "</tbody>\n",
       "</table>\n"
      ],
      "text/latex": [
       "\\begin{tabular}{r|llll}\n",
       " team\\_long\\_name & team\\_short\\_name & team\\_api\\_id & buildupattributes\\\\\n",
       "\\hline\n",
       "\t Carpi                      & CAP                        & 208931                     & 190                       \\\\\n",
       "\t Widzew Łódź                & LOD                        &   8244                     & 190                       \\\\\n",
       "\t Widzew Łódź                & WID                        &   8024                     & 190                       \\\\\n",
       "\t FC Nantes                  & NAN                        &   9830                     & 189                       \\\\\n",
       "\t Podbeskidzie Bielsko-Biała & POD                        &   8033                     & 189                       \\\\\n",
       "\t Lazio                      & LAZ                        &   8543                     & 188                       \\\\\n",
       "\t Chievo Verona              & CHI                        &   8533                     & 187                       \\\\\n",
       "\t Blackburn Rovers           & BLB                        &   8655                     & 185                       \\\\\n",
       "\t Udinese                    & UDI                        &   8600                     & 185                       \\\\\n",
       "\t Genoa                      & GEN                        &  10233                     & 184                       \\\\\n",
       "\\end{tabular}\n"
      ],
      "text/markdown": [
       "\n",
       "team_long_name | team_short_name | team_api_id | buildupattributes | \n",
       "|---|---|---|---|---|---|---|---|---|---|\n",
       "| Carpi                      | CAP                        | 208931                     | 190                        | \n",
       "| Widzew Łódź                | LOD                        |   8244                     | 190                        | \n",
       "| Widzew Łódź                | WID                        |   8024                     | 190                        | \n",
       "| FC Nantes                  | NAN                        |   9830                     | 189                        | \n",
       "| Podbeskidzie Bielsko-Biała | POD                        |   8033                     | 189                        | \n",
       "| Lazio                      | LAZ                        |   8543                     | 188                        | \n",
       "| Chievo Verona              | CHI                        |   8533                     | 187                        | \n",
       "| Blackburn Rovers           | BLB                        |   8655                     | 185                        | \n",
       "| Udinese                    | UDI                        |   8600                     | 185                        | \n",
       "| Genoa                      | GEN                        |  10233                     | 184                        | \n",
       "\n",
       "\n"
      ],
      "text/plain": [
       "   team_long_name             team_short_name team_api_id buildupattributes\n",
       "1  Carpi                      CAP             208931      190              \n",
       "2  Widzew Łódź                LOD               8244      190              \n",
       "3  Widzew Łódź                WID               8024      190              \n",
       "4  FC Nantes                  NAN               9830      189              \n",
       "5  Podbeskidzie Bielsko-Biała POD               8033      189              \n",
       "6  Lazio                      LAZ               8543      188              \n",
       "7  Chievo Verona              CHI               8533      187              \n",
       "8  Blackburn Rovers           BLB               8655      185              \n",
       "9  Udinese                    UDI               8600      185              \n",
       "10 Genoa                      GEN              10233      184              "
      ]
     },
     "metadata": {},
     "output_type": "display_data"
    }
   ],
   "source": [
    "#question5\n",
    "#Which are the top 10 teams by sum of build up play attributes?\n",
    "q5 <- teamdata %>% top_n(n=10,wt=buildupattributes)\n",
    "q5 <- arrange(q5,desc(buildupattributes))\n",
    "q5 <- select(q5,team_long_name,team_short_name,team_api_id,buildupattributes)\n",
    "q5 <- filter(q5,between(row_number(),1,10))\n",
    "q5"
   ]
  },
  {
   "cell_type": "code",
   "execution_count": 18,
   "metadata": {
    "collapsed": false
   },
   "outputs": [
    {
     "data": {
      "text/html": [
       "<table>\n",
       "<thead><tr><th scope=col>team_long_name</th><th scope=col>team_short_name</th><th scope=col>chancecreationattributes</th></tr></thead>\n",
       "<tbody>\n",
       "\t<tr><td>Lazio                 </td><td>LAZ                   </td><td>220                   </td></tr>\n",
       "\t<tr><td>Birmingham City       </td><td>BIR                   </td><td>203                   </td></tr>\n",
       "\t<tr><td>Falkirk               </td><td>FAL                   </td><td>200                   </td></tr>\n",
       "\t<tr><td>Hamilton Academical FC</td><td>HAM                   </td><td>197                   </td></tr>\n",
       "\t<tr><td>Cagliari              </td><td>CAG                   </td><td>196                   </td></tr>\n",
       "\t<tr><td>Lech Poznań           </td><td>POZ                   </td><td>196                   </td></tr>\n",
       "\t<tr><td>Juventus              </td><td>JUV                   </td><td>195                   </td></tr>\n",
       "\t<tr><td>Bayer 04 Leverkusen   </td><td>LEV                   </td><td>192                   </td></tr>\n",
       "\t<tr><td>SV Werder Bremen      </td><td>WBR                   </td><td>192                   </td></tr>\n",
       "\t<tr><td>Roma                  </td><td>ROM                   </td><td>191                   </td></tr>\n",
       "</tbody>\n",
       "</table>\n"
      ],
      "text/latex": [
       "\\begin{tabular}{r|lll}\n",
       " team\\_long\\_name & team\\_short\\_name & chancecreationattributes\\\\\n",
       "\\hline\n",
       "\t Lazio                  & LAZ                    & 220                   \\\\\n",
       "\t Birmingham City        & BIR                    & 203                   \\\\\n",
       "\t Falkirk                & FAL                    & 200                   \\\\\n",
       "\t Hamilton Academical FC & HAM                    & 197                   \\\\\n",
       "\t Cagliari               & CAG                    & 196                   \\\\\n",
       "\t Lech Poznań            & POZ                    & 196                   \\\\\n",
       "\t Juventus               & JUV                    & 195                   \\\\\n",
       "\t Bayer 04 Leverkusen    & LEV                    & 192                   \\\\\n",
       "\t SV Werder Bremen       & WBR                    & 192                   \\\\\n",
       "\t Roma                   & ROM                    & 191                   \\\\\n",
       "\\end{tabular}\n"
      ],
      "text/markdown": [
       "\n",
       "team_long_name | team_short_name | chancecreationattributes | \n",
       "|---|---|---|---|---|---|---|---|---|---|\n",
       "| Lazio                  | LAZ                    | 220                    | \n",
       "| Birmingham City        | BIR                    | 203                    | \n",
       "| Falkirk                | FAL                    | 200                    | \n",
       "| Hamilton Academical FC | HAM                    | 197                    | \n",
       "| Cagliari               | CAG                    | 196                    | \n",
       "| Lech Poznań            | POZ                    | 196                    | \n",
       "| Juventus               | JUV                    | 195                    | \n",
       "| Bayer 04 Leverkusen    | LEV                    | 192                    | \n",
       "| SV Werder Bremen       | WBR                    | 192                    | \n",
       "| Roma                   | ROM                    | 191                    | \n",
       "\n",
       "\n"
      ],
      "text/plain": [
       "   team_long_name         team_short_name chancecreationattributes\n",
       "1  Lazio                  LAZ             220                     \n",
       "2  Birmingham City        BIR             203                     \n",
       "3  Falkirk                FAL             200                     \n",
       "4  Hamilton Academical FC HAM             197                     \n",
       "5  Cagliari               CAG             196                     \n",
       "6  Lech Poznań            POZ             196                     \n",
       "7  Juventus               JUV             195                     \n",
       "8  Bayer 04 Leverkusen    LEV             192                     \n",
       "9  SV Werder Bremen       WBR             192                     \n",
       "10 Roma                   ROM             191                     "
      ]
     },
     "metadata": {},
     "output_type": "display_data"
    }
   ],
   "source": [
    "#question6\n",
    "#Which are the top 10 teams by sum of build up play attributes?\n",
    "q6 <- teamdata %>% top_n(n=10,wt=chancecreationattributes)\n",
    "q6 <- arrange(q6,desc(chancecreationattributes))\n",
    "q6 <- select(q6,team_long_name,team_short_name,chancecreationattributes)\n",
    "q6 <- filter(q6,between(row_number(),1,10))\n",
    "q6"
   ]
  },
  {
   "cell_type": "code",
   "execution_count": 19,
   "metadata": {
    "collapsed": false
   },
   "outputs": [
    {
     "data": {
      "text/html": [
       "<table>\n",
       "<thead><tr><th scope=col>team_long_name</th><th scope=col>team_short_name</th><th scope=col>defenseattributes</th></tr></thead>\n",
       "<tbody>\n",
       "\t<tr><td>KSV Roeselare      </td><td>ROS                </td><td>205                </td></tr>\n",
       "\t<tr><td>Odra Wodzisław     </td><td>ODR                </td><td>205                </td></tr>\n",
       "\t<tr><td>Falkirk            </td><td>FAL                </td><td>200                </td></tr>\n",
       "\t<tr><td>FC Barcelona       </td><td>BAR                </td><td>191                </td></tr>\n",
       "\t<tr><td>Lazio              </td><td>LAZ                </td><td>190                </td></tr>\n",
       "\t<tr><td>Cagliari           </td><td>CAG                </td><td>187                </td></tr>\n",
       "\t<tr><td>FC Bayern Munich   </td><td>BMU                </td><td>184                </td></tr>\n",
       "\t<tr><td>Burnley            </td><td>BUR                </td><td>183                </td></tr>\n",
       "\t<tr><td>Bayer 04 Leverkusen</td><td>LEV                </td><td>183                </td></tr>\n",
       "\t<tr><td>SV Werder Bremen   </td><td>WBR                </td><td>183                </td></tr>\n",
       "</tbody>\n",
       "</table>\n"
      ],
      "text/latex": [
       "\\begin{tabular}{r|lll}\n",
       " team\\_long\\_name & team\\_short\\_name & defenseattributes\\\\\n",
       "\\hline\n",
       "\t KSV Roeselare       & ROS                 & 205                \\\\\n",
       "\t Odra Wodzisław      & ODR                 & 205                \\\\\n",
       "\t Falkirk             & FAL                 & 200                \\\\\n",
       "\t FC Barcelona        & BAR                 & 191                \\\\\n",
       "\t Lazio               & LAZ                 & 190                \\\\\n",
       "\t Cagliari            & CAG                 & 187                \\\\\n",
       "\t FC Bayern Munich    & BMU                 & 184                \\\\\n",
       "\t Burnley             & BUR                 & 183                \\\\\n",
       "\t Bayer 04 Leverkusen & LEV                 & 183                \\\\\n",
       "\t SV Werder Bremen    & WBR                 & 183                \\\\\n",
       "\\end{tabular}\n"
      ],
      "text/markdown": [
       "\n",
       "team_long_name | team_short_name | defenseattributes | \n",
       "|---|---|---|---|---|---|---|---|---|---|\n",
       "| KSV Roeselare       | ROS                 | 205                 | \n",
       "| Odra Wodzisław      | ODR                 | 205                 | \n",
       "| Falkirk             | FAL                 | 200                 | \n",
       "| FC Barcelona        | BAR                 | 191                 | \n",
       "| Lazio               | LAZ                 | 190                 | \n",
       "| Cagliari            | CAG                 | 187                 | \n",
       "| FC Bayern Munich    | BMU                 | 184                 | \n",
       "| Burnley             | BUR                 | 183                 | \n",
       "| Bayer 04 Leverkusen | LEV                 | 183                 | \n",
       "| SV Werder Bremen    | WBR                 | 183                 | \n",
       "\n",
       "\n"
      ],
      "text/plain": [
       "   team_long_name      team_short_name defenseattributes\n",
       "1  KSV Roeselare       ROS             205              \n",
       "2  Odra Wodzisław      ODR             205              \n",
       "3  Falkirk             FAL             200              \n",
       "4  FC Barcelona        BAR             191              \n",
       "5  Lazio               LAZ             190              \n",
       "6  Cagliari            CAG             187              \n",
       "7  FC Bayern Munich    BMU             184              \n",
       "8  Burnley             BUR             183              \n",
       "9  Bayer 04 Leverkusen LEV             183              \n",
       "10 SV Werder Bremen    WBR             183              "
      ]
     },
     "metadata": {},
     "output_type": "display_data"
    }
   ],
   "source": [
    "q7 <- teamdata %>% top_n(n=10,wt=defenseattributes)\n",
    "q7 <- arrange(q7,desc(defenseattributes))\n",
    "q7 <- select(q7,team_long_name,team_short_name,defenseattributes)\n",
    "q7 <- filter(q7,between(row_number(),1,10))\n",
    "q7"
   ]
  },
  {
   "cell_type": "code",
   "execution_count": 20,
   "metadata": {
    "collapsed": false
   },
   "outputs": [
    {
     "data": {
      "text/html": [
       "<table>\n",
       "<thead><tr><th scope=col>team_long_name</th><th scope=col>team_short_name</th><th scope=col>goals</th></tr></thead>\n",
       "<tbody>\n",
       "\t<tr><td>FC Barcelona     </td><td>BAR              </td><td>849              </td></tr>\n",
       "\t<tr><td>Real Madrid CF   </td><td>REA              </td><td>843              </td></tr>\n",
       "\t<tr><td>Celtic           </td><td>CEL              </td><td>695              </td></tr>\n",
       "\t<tr><td>FC Bayern Munich </td><td>BMU              </td><td>653              </td></tr>\n",
       "\t<tr><td>PSV              </td><td>PSV              </td><td>652              </td></tr>\n",
       "\t<tr><td>Ajax             </td><td>AJA              </td><td>647              </td></tr>\n",
       "\t<tr><td>FC Basel         </td><td>BAS              </td><td>619              </td></tr>\n",
       "\t<tr><td>Manchester City  </td><td>MCI              </td><td>606              </td></tr>\n",
       "\t<tr><td>Chelsea          </td><td>CHE              </td><td>583              </td></tr>\n",
       "\t<tr><td>Manchester United</td><td>MUN              </td><td>582              </td></tr>\n",
       "</tbody>\n",
       "</table>\n"
      ],
      "text/latex": [
       "\\begin{tabular}{r|lll}\n",
       " team\\_long\\_name & team\\_short\\_name & goals\\\\\n",
       "\\hline\n",
       "\t FC Barcelona      & BAR               & 849              \\\\\n",
       "\t Real Madrid CF    & REA               & 843              \\\\\n",
       "\t Celtic            & CEL               & 695              \\\\\n",
       "\t FC Bayern Munich  & BMU               & 653              \\\\\n",
       "\t PSV               & PSV               & 652              \\\\\n",
       "\t Ajax              & AJA               & 647              \\\\\n",
       "\t FC Basel          & BAS               & 619              \\\\\n",
       "\t Manchester City   & MCI               & 606              \\\\\n",
       "\t Chelsea           & CHE               & 583              \\\\\n",
       "\t Manchester United & MUN               & 582              \\\\\n",
       "\\end{tabular}\n"
      ],
      "text/markdown": [
       "\n",
       "team_long_name | team_short_name | goals | \n",
       "|---|---|---|---|---|---|---|---|---|---|\n",
       "| FC Barcelona      | BAR               | 849               | \n",
       "| Real Madrid CF    | REA               | 843               | \n",
       "| Celtic            | CEL               | 695               | \n",
       "| FC Bayern Munich  | BMU               | 653               | \n",
       "| PSV               | PSV               | 652               | \n",
       "| Ajax              | AJA               | 647               | \n",
       "| FC Basel          | BAS               | 619               | \n",
       "| Manchester City   | MCI               | 606               | \n",
       "| Chelsea           | CHE               | 583               | \n",
       "| Manchester United | MUN               | 582               | \n",
       "\n",
       "\n"
      ],
      "text/plain": [
       "   team_long_name    team_short_name goals\n",
       "1  FC Barcelona      BAR             849  \n",
       "2  Real Madrid CF    REA             843  \n",
       "3  Celtic            CEL             695  \n",
       "4  FC Bayern Munich  BMU             653  \n",
       "5  PSV               PSV             652  \n",
       "6  Ajax              AJA             647  \n",
       "7  FC Basel          BAS             619  \n",
       "8  Manchester City   MCI             606  \n",
       "9  Chelsea           CHE             583  \n",
       "10 Manchester United MUN             582  "
      ]
     },
     "metadata": {},
     "output_type": "display_data"
    }
   ],
   "source": [
    "q8 <- teamdata %>% top_n(n=10,wt=goals)\n",
    "q8 <- arrange(q8,desc(goals))\n",
    "q8 <- select(q8,team_long_name,team_short_name,goals)\n",
    "q8 <- filter(q8,between(row_number(),1,10))\n",
    "q8"
   ]
  }
 ],
 "metadata": {
  "kernelspec": {
   "display_name": "R",
   "language": "R",
   "name": "ir"
  },
  "language_info": {
   "codemirror_mode": "r",
   "file_extension": ".r",
   "mimetype": "text/x-r-source",
   "name": "R",
   "pygments_lexer": "r",
   "version": "3.3.2"
  }
 },
 "nbformat": 4,
 "nbformat_minor": 2
}
